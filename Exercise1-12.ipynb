{
 "cells": [
  {
   "cell_type": "code",
   "execution_count": 186,
   "id": "aa9e5ebe-3693-4e70-ba4c-79b3756f2f3d",
   "metadata": {
    "tags": []
   },
   "outputs": [],
   "source": [
    "#ref/ https://github.com/Automating-GIS-processes-2022/Exercise-1/blob/main/Exercise-1-problem-1-2.ipynb"
   ]
  },
  {
   "cell_type": "raw",
   "id": "c408b066-e238-440d-a4b9-1989bb23e94a",
   "metadata": {
    "tags": []
   },
   "source": [
    "# Library\n",
    "from shapely import geometry\n"
   ]
  },
  {
   "cell_type": "code",
   "execution_count": 188,
   "id": "9b21f789-709e-417d-a523-f9c5f71394f7",
   "metadata": {
    "tags": []
   },
   "outputs": [],
   "source": [
    "#1A"
   ]
  },
  {
   "cell_type": "code",
   "execution_count": 189,
   "id": "579ec70a-e3ed-48b8-a78d-63dadb514db7",
   "metadata": {
    "tags": []
   },
   "outputs": [],
   "source": [
    "def create_point_geometry(point):\n",
    "    \"\"\"\n",
    "    This is Docstrings\n",
    "    Create the point Geometry\n",
    "    \"\"\"\n",
    "    return geometry.Point(point)\n",
    "\n",
    "def create_line_geometry(LIST):\n",
    "    \"\"\"\n",
    "    Create Line Geometry\n",
    "    \"\"\"\n",
    "    # Assert - yes -> pass - no -> raise the error\n",
    "    # Check the input condition\n",
    "    assert isinstance(LIST,list), \"Input should be a list\"\n",
    "    assert len(LIST)>=2, \"Input must have at least 4 elements to make line\"  \n",
    "    return geometry.LineString(LIST)\n",
    "\n",
    "def create_polygon_geometry(CoordinatesList):\n",
    "    \"\"\"\n",
    "    Create Polygon Geometry\n",
    "    \"\"\"\n",
    "    ### Check the input\n",
    "    assert isinstance(CoordinatesList,list), \"Input should be a list\"\n",
    "    NoPoint=len(CoordinatesList)\n",
    "    assert NoPoint>=3, \"At minimum, three points are required for a polygon\"    \n",
    "    for element in CoordinatesList:\n",
    "        assert len(element)==2,\"All list values must be coordinate tyuples\"\n",
    "        for idx in element:\n",
    "            check=type(idx)\n",
    "            assert check==int or check==float, \"all tuples’ values are instances of either int or float\"\n",
    "    return geometry.Polygon(CoordinatesList)"
   ]
  },
  {
   "cell_type": "code",
   "execution_count": 190,
   "id": "984ea86d-d354-48c9-ad92-fd970c671dda",
   "metadata": {
    "tags": []
   },
   "outputs": [
    {
     "name": "stdout",
     "output_type": "stream",
     "text": [
      "POINT (2 3)\n",
      "True\n"
     ]
    },
    {
     "data": {
      "image/svg+xml": [
       "<svg xmlns=\"http://www.w3.org/2000/svg\" xmlns:xlink=\"http://www.w3.org/1999/xlink\" width=\"100.0\" height=\"100.0\" viewBox=\"1.0 2.0 2.0 2.0\" preserveAspectRatio=\"xMinYMin meet\"><g transform=\"matrix(1,0,0,-1,0,6.0)\"><circle cx=\"2.0\" cy=\"3.0\" r=\"0.06\" stroke=\"#555555\" stroke-width=\"0.02\" fill=\"#66cc99\" opacity=\"0.6\" /></g></svg>"
      ],
      "text/plain": [
       "<POINT (2 3)>"
      ]
     },
     "execution_count": 190,
     "metadata": {},
     "output_type": "execute_result"
    }
   ],
   "source": [
    "point=(2,3)\n",
    "point1= create_point_geometry(point)\n",
    "print(point1)\n",
    "print(point1.geom_type=='Point')\n",
    "point1"
   ]
  },
  {
   "cell_type": "code",
   "execution_count": 191,
   "id": "501a2653-f5ab-43ad-825c-9ab9ee1bb6e6",
   "metadata": {
    "tags": []
   },
   "outputs": [
    {
     "name": "stdout",
     "output_type": "stream",
     "text": [
      "LINESTRING (45.2 22.34, 100.22 -3.2)\n",
      "LineString\n"
     ]
    },
    {
     "data": {
      "image/svg+xml": [
       "<svg xmlns=\"http://www.w3.org/2000/svg\" xmlns:xlink=\"http://www.w3.org/1999/xlink\" width=\"100.0\" height=\"100.0\" viewBox=\"42.9992 -5.4008 59.4216 29.9416\" preserveAspectRatio=\"xMinYMin meet\"><g transform=\"matrix(1,0,0,-1,0,19.14)\"><polyline fill=\"none\" stroke=\"#66cc99\" stroke-width=\"1.188432\" points=\"45.2,22.34 100.22,-3.2\" opacity=\"0.8\" /></g></svg>"
      ],
      "text/plain": [
       "<LINESTRING (45.2 22.34, 100.22 -3.2)>"
      ]
     },
     "execution_count": 191,
     "metadata": {},
     "output_type": "execute_result"
    }
   ],
   "source": [
    "ls=[(45.2,22.34),(100.22,-3.2)]\n",
    "line=create_line_geometry(ls)\n",
    "print(line)\n",
    "print(line.geom_type)\n",
    "line\n"
   ]
  },
  {
   "cell_type": "code",
   "execution_count": 192,
   "id": "c5171036-37d5-48a5-b3eb-a6b8d0b9f51f",
   "metadata": {
    "tags": []
   },
   "outputs": [
    {
     "name": "stdout",
     "output_type": "stream",
     "text": [
      "The function (correctly) detected an error. The error message was ‘Input should be a list’\n"
     ]
    }
   ],
   "source": [
    "# NON-EDITABLE CODE CELL FOR TESTING YOUR SOLUTION\n",
    "try:\n",
    "    # Pass something else than a list\n",
    "    create_line_geometry(\"Give me a line!\")\n",
    "except AssertionError as exception:\n",
    "    print(f\"The function (correctly) detected an error. The error message was ‘{exception.args[0]}’\")\n",
    "except Exception as exception:\n",
    "    raise exception"
   ]
  },
  {
   "cell_type": "code",
   "execution_count": 193,
   "id": "6d4f9635-0834-4221-96fa-3c7cc2708950",
   "metadata": {
    "tags": []
   },
   "outputs": [
    {
     "name": "stdout",
     "output_type": "stream",
     "text": [
      "POLYGON ((2.2 4.2, 7.2 -25.1, 9.26 -2.456, 2.2 4.2))\n",
      "Polygon\n"
     ]
    },
    {
     "data": {
      "image/svg+xml": [
       "<svg xmlns=\"http://www.w3.org/2000/svg\" xmlns:xlink=\"http://www.w3.org/1999/xlink\" width=\"100.0\" height=\"100.0\" viewBox=\"1.028 -26.272000000000002 9.404 31.644000000000002\" preserveAspectRatio=\"xMinYMin meet\"><g transform=\"matrix(1,0,0,-1,0,-20.900000000000002)\"><path fill-rule=\"evenodd\" fill=\"#66cc99\" stroke=\"#555555\" stroke-width=\"0.63288\" opacity=\"0.6\" d=\"M 2.2,4.2 L 7.2,-25.1 L 9.26,-2.456 L 2.2,4.2 z\" /></g></svg>"
      ],
      "text/plain": [
       "<POLYGON ((2.2 4.2, 7.2 -25.1, 9.26 -2.456, 2.2 4.2))>"
      ]
     },
     "execution_count": 193,
     "metadata": {},
     "output_type": "execute_result"
    }
   ],
   "source": [
    "#ls_polygon=[(45.2,22.34),(100.22,-3.2),(70.0,10.2j) ]\n",
    "ls_polygon=[(2.2,4.2),(7.2,-25.1),(9.26,-2.456) ]\n",
    "polygon=create_polygon_geometry(ls_polygon)\n",
    "print(polygon)\n",
    "print(polygon.geom_type)\n",
    "polygon"
   ]
  },
  {
   "cell_type": "code",
   "execution_count": 194,
   "id": "9fbbbd66-de1f-453e-925d-03c5ba0cc176",
   "metadata": {
    "tags": []
   },
   "outputs": [
    {
     "name": "stdout",
     "output_type": "stream",
     "text": [
      "The function (correctly) detected an error. The error message was ‘Input should be a list’\n"
     ]
    }
   ],
   "source": [
    "# NON-EDITABLE CODE CELL FOR TESTING YOUR SOLUTION\n",
    "try:\n",
    "    # Pass something else than a list\n",
    "    create_polygon_geometry(\"Give me a polygon\")\n",
    "except AssertionError as exception:\n",
    "    print(f\"The function (correctly) detected an error. The error message was ‘{exception.args[0]}’\")\n",
    "except Exception as exception:\n",
    "    raise exception"
   ]
  },
  {
   "cell_type": "code",
   "execution_count": 195,
   "id": "7ea74da4-f0fe-4c3b-b784-36002155251c",
   "metadata": {
    "tags": []
   },
   "outputs": [],
   "source": [
    "# PROBLEM 2: ATTRIBUTES OF GEOMETRIES"
   ]
  },
  {
   "cell_type": "code",
   "execution_count": 196,
   "id": "8147961c-e6a9-4c24-90e3-de597e89a8a8",
   "metadata": {
    "tags": []
   },
   "outputs": [],
   "source": [
    "def get_centroid(geom):\n",
    "    \"\"\"\n",
    "    Return the centroid of polygond and midpoint of  LineString\n",
    "    \"\"\"\n",
    "    inputType=geom.geom_type\n",
    "    Geo_Shape=['Point','LineString','LinearRing','Polygon']\n",
    "    assert [inputType==Geo_Shape[i] for i in range(len(Geo_Shape))] ,\"Input must be a shapely geometry\"\n",
    "    print(f'Centroid of {inputType} is {geom.centroid}')\n",
    "    return geom.centroid\n",
    "\n",
    "def get_area(polygon):\n",
    "    \"\"\"\n",
    "    Return the area of polygon\n",
    "    \"\"\"\n",
    "    inputType=polygon.geom_type\n",
    "    assert inputType=='Polygon', \"Input should be a shapely.geometry.Polygon\"\n",
    "    print(f'Area of {polygon} is {polygon.area}')\n",
    "    return polygon.area\n",
    "\n",
    "def get_length(geometry):\n",
    "    \"\"\"\n",
    "    Return the length of LineString\n",
    "    And the Circumference of the Polygon\n",
    "    \"\"\"\n",
    "    inputType=geometry.geom_type\n",
    "    Geo_Shape=['LineString','Polygon']\n",
    "    #assert [inputType==Geo_Shape[i] for i in range(len(Geo_Shape))] ,\"Input must be a shapely geometry\"\n",
    "    if inputType!=Geo_Shape[0] and inputType!=Geo_Shape[1]:\n",
    "        raise TypeError('Input Type must be either LineString or Polygon')\n",
    "    if inputType==Geo_Shape[0]:\n",
    "        length=geometry.length\n",
    "    else:\n",
    "        length=geometry.exterior.length\n",
    "    return length\n",
    "# Check errror - b=get_length(point1)"
   ]
  },
  {
   "cell_type": "code",
   "execution_count": 197,
   "id": "c82f92c2-e446-42f7-85b9-c3efd5ebcac6",
   "metadata": {
    "tags": []
   },
   "outputs": [
    {
     "name": "stdout",
     "output_type": "stream",
     "text": [
      "Centroid of Polygon is POINT (6.22 -7.785333333333334)\n"
     ]
    }
   ],
   "source": [
    "CentroidOfPolygon=get_centroid(polygon)\n"
   ]
  },
  {
   "cell_type": "code",
   "execution_count": 198,
   "id": "78218ed0-5049-4cfa-b4c5-6b91bc148727",
   "metadata": {
    "tags": []
   },
   "outputs": [],
   "source": [
    "# 2b"
   ]
  },
  {
   "cell_type": "code",
   "execution_count": 199,
   "id": "388fe433-f439-4e3b-994e-cf78a31ebc76",
   "metadata": {
    "tags": []
   },
   "outputs": [
    {
     "name": "stdout",
     "output_type": "stream",
     "text": [
      "Area of POLYGON ((2.2 4.2, 7.2 -25.1, 9.26 -2.456, 2.2 4.2)) is 86.789\n",
      "86.79\n"
     ]
    }
   ],
   "source": [
    "# NON-EDITABLE CODE CELL FOR TESTING YOUR SOLUTION\n",
    "area = get_area(polygon)\n",
    "print(round(area, 2))"
   ]
  },
  {
   "cell_type": "code",
   "execution_count": 200,
   "id": "f601a567-cb04-4b87-a243-a1860d335346",
   "metadata": {
    "tags": []
   },
   "outputs": [
    {
     "data": {
      "text/plain": [
       "62.16395199996553"
      ]
     },
     "execution_count": 200,
     "metadata": {},
     "output_type": "execute_result"
    }
   ],
   "source": [
    "CircumferencePolygon=get_length(polygon)\n",
    "CircumferencePolygon"
   ]
  },
  {
   "cell_type": "code",
   "execution_count": 201,
   "id": "29bcbd3b-cd89-48e4-b4b1-d69717263ac6",
   "metadata": {
    "tags": []
   },
   "outputs": [
    {
     "data": {
      "text/plain": [
       "60.65881634189707"
      ]
     },
     "execution_count": 201,
     "metadata": {},
     "output_type": "execute_result"
    }
   ],
   "source": [
    "LengthLine=get_length(line)\n",
    "LengthLine"
   ]
  },
  {
   "cell_type": "code",
   "execution_count": 202,
   "id": "d21a21c1-3725-439f-8293-18a1fabaf909",
   "metadata": {
    "tags": []
   },
   "outputs": [
    {
     "name": "stdout",
     "output_type": "stream",
     "text": [
      "My functions:\n",
      "\n",
      "- create_point_geometry: \n",
      "    This is Docstrings\n",
      "    Create the point Geometry\n",
      "    \n",
      "- create_line_geometry: \n",
      "    Create Line Geometry\n",
      "    \n",
      "- create_polygon_geometry: \n",
      "    Create Polygon Geometry\n",
      "    \n",
      "- get_centroid: \n",
      "    Return the centroid of polygond and midpoint of  LineString\n",
      "    \n",
      "- get_area: \n",
      "    Return the area of polygon\n",
      "    \n",
      "- get_length: \n",
      "    Return the length of LineString\n",
      "    And the Circumference of the Polygon\n",
      "    \n"
     ]
    }
   ],
   "source": [
    "# Check the function introduction\n",
    "functions = [\n",
    "    create_point_geometry,\n",
    "    create_line_geometry,\n",
    "    create_polygon_geometry,\n",
    "    get_centroid,\n",
    "    get_area,\n",
    "    get_length\n",
    "]\n",
    "\n",
    "print(\"My functions:\\n\")\n",
    "\n",
    "for function in functions:\n",
    "    # print function name and docstring:\n",
    "    print(\"-\", function.__name__ +\":\", function.__doc__)"
   ]
  }
 ],
 "metadata": {
  "kernelspec": {
   "display_name": "Python 3 (ipykernel)",
   "language": "python",
   "name": "python3"
  },
  "language_info": {
   "codemirror_mode": {
    "name": "ipython",
    "version": 3
   },
   "file_extension": ".py",
   "mimetype": "text/x-python",
   "name": "python",
   "nbconvert_exporter": "python",
   "pygments_lexer": "ipython3",
   "version": "3.11.0"
  }
 },
 "nbformat": 4,
 "nbformat_minor": 5
}
