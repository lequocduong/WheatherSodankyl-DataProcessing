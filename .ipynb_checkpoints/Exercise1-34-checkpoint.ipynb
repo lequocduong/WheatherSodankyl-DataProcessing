{
 "cells": [
  {
   "cell_type": "code",
   "execution_count": 10,
   "id": "97aadffe-8fff-43b7-9ebb-8f19e4fcf12e",
   "metadata": {
    "tags": []
   },
   "outputs": [],
   "source": [
    "from shapely import geometry\n",
    "import pandas as pd\n",
    "import numpy as np"
   ]
  },
  {
   "cell_type": "code",
   "execution_count": 12,
   "id": "733daa88-ce5d-4c17-b8f4-8211aed86c3f",
   "metadata": {
    "tags": []
   },
   "outputs": [
    {
     "name": "stdout",
     "output_type": "stream",
     "text": [
      "(14643, 13)\n"
     ]
    },
    {
     "data": {
      "text/html": [
       "<div>\n",
       "<style scoped>\n",
       "    .dataframe tbody tr th:only-of-type {\n",
       "        vertical-align: middle;\n",
       "    }\n",
       "\n",
       "    .dataframe tbody tr th {\n",
       "        vertical-align: top;\n",
       "    }\n",
       "\n",
       "    .dataframe thead th {\n",
       "        text-align: right;\n",
       "    }\n",
       "</style>\n",
       "<table border=\"1\" class=\"dataframe\">\n",
       "  <thead>\n",
       "    <tr style=\"text-align: right;\">\n",
       "      <th></th>\n",
       "      <th>from_id</th>\n",
       "      <th>to_id</th>\n",
       "      <th>fromid_toid</th>\n",
       "      <th>route_number</th>\n",
       "      <th>at</th>\n",
       "      <th>from_x</th>\n",
       "      <th>from_y</th>\n",
       "      <th>to_x</th>\n",
       "      <th>to_y</th>\n",
       "      <th>total_route_time</th>\n",
       "      <th>route_time</th>\n",
       "      <th>route_distance</th>\n",
       "      <th>route_total_lines</th>\n",
       "    </tr>\n",
       "  </thead>\n",
       "  <tbody>\n",
       "    <tr>\n",
       "      <th>0</th>\n",
       "      <td>5861326</td>\n",
       "      <td>5785640</td>\n",
       "      <td>5861326_5785640</td>\n",
       "      <td>1</td>\n",
       "      <td>08:10</td>\n",
       "      <td>24.970438</td>\n",
       "      <td>60.311917</td>\n",
       "      <td>24.856034</td>\n",
       "      <td>60.399941</td>\n",
       "      <td>125.0</td>\n",
       "      <td>99.0</td>\n",
       "      <td>22917.6</td>\n",
       "      <td>2.0</td>\n",
       "    </tr>\n",
       "    <tr>\n",
       "      <th>1</th>\n",
       "      <td>5861326</td>\n",
       "      <td>5785641</td>\n",
       "      <td>5861326_5785641</td>\n",
       "      <td>1</td>\n",
       "      <td>08:10</td>\n",
       "      <td>24.970438</td>\n",
       "      <td>60.311917</td>\n",
       "      <td>24.860568</td>\n",
       "      <td>60.400014</td>\n",
       "      <td>123.0</td>\n",
       "      <td>102.0</td>\n",
       "      <td>23123.5</td>\n",
       "      <td>2.0</td>\n",
       "    </tr>\n",
       "    <tr>\n",
       "      <th>2</th>\n",
       "      <td>5861326</td>\n",
       "      <td>5785642</td>\n",
       "      <td>5861326_5785642</td>\n",
       "      <td>1</td>\n",
       "      <td>08:10</td>\n",
       "      <td>24.970438</td>\n",
       "      <td>60.311917</td>\n",
       "      <td>24.865102</td>\n",
       "      <td>60.400086</td>\n",
       "      <td>125.0</td>\n",
       "      <td>103.0</td>\n",
       "      <td>23241.3</td>\n",
       "      <td>2.0</td>\n",
       "    </tr>\n",
       "    <tr>\n",
       "      <th>3</th>\n",
       "      <td>5861326</td>\n",
       "      <td>5785643</td>\n",
       "      <td>5861326_5785643</td>\n",
       "      <td>1</td>\n",
       "      <td>08:10</td>\n",
       "      <td>24.970438</td>\n",
       "      <td>60.311917</td>\n",
       "      <td>24.869636</td>\n",
       "      <td>60.400159</td>\n",
       "      <td>129.0</td>\n",
       "      <td>107.0</td>\n",
       "      <td>23534.2</td>\n",
       "      <td>2.0</td>\n",
       "    </tr>\n",
       "    <tr>\n",
       "      <th>4</th>\n",
       "      <td>5861326</td>\n",
       "      <td>5787544</td>\n",
       "      <td>5861326_5787544</td>\n",
       "      <td>1</td>\n",
       "      <td>08:10</td>\n",
       "      <td>24.970438</td>\n",
       "      <td>60.311917</td>\n",
       "      <td>24.842582</td>\n",
       "      <td>60.397478</td>\n",
       "      <td>118.0</td>\n",
       "      <td>92.0</td>\n",
       "      <td>22428.2</td>\n",
       "      <td>2.0</td>\n",
       "    </tr>\n",
       "  </tbody>\n",
       "</table>\n",
       "</div>"
      ],
      "text/plain": [
       "   from_id    to_id      fromid_toid  route_number     at     from_x  \\\n",
       "0  5861326  5785640  5861326_5785640             1  08:10  24.970438   \n",
       "1  5861326  5785641  5861326_5785641             1  08:10  24.970438   \n",
       "2  5861326  5785642  5861326_5785642             1  08:10  24.970438   \n",
       "3  5861326  5785643  5861326_5785643             1  08:10  24.970438   \n",
       "4  5861326  5787544  5861326_5787544             1  08:10  24.970438   \n",
       "\n",
       "      from_y       to_x       to_y  total_route_time  route_time  \\\n",
       "0  60.311917  24.856034  60.399941             125.0        99.0   \n",
       "1  60.311917  24.860568  60.400014             123.0       102.0   \n",
       "2  60.311917  24.865102  60.400086             125.0       103.0   \n",
       "3  60.311917  24.869636  60.400159             129.0       107.0   \n",
       "4  60.311917  24.842582  60.397478             118.0        92.0   \n",
       "\n",
       "   route_distance  route_total_lines  \n",
       "0         22917.6                2.0  \n",
       "1         23123.5                2.0  \n",
       "2         23241.3                2.0  \n",
       "3         23534.2                2.0  \n",
       "4         22428.2                2.0  "
      ]
     },
     "execution_count": 12,
     "metadata": {},
     "output_type": "execute_result"
    }
   ],
   "source": [
    "df = pd.read_csv('data/Data.txt',sep=';')\n",
    "df=pd.DataFrame(df)\n",
    "print(df.shape)\n",
    "df.head()"
   ]
  },
  {
   "cell_type": "code",
   "execution_count": 26,
   "id": "9ffb25dd-799f-4686-8fc6-4d79bc69cdeb",
   "metadata": {
    "tags": []
   },
   "outputs": [],
   "source": [
    "def derivedData(df,x,y):\n",
    "    data=df.iloc[:,x:y]\n",
    "    assert list(data.columns) == [\"from_x\", \"from_y\", \"to_x\", \"to_y\"], \"Error: `data` does not (or not only) contain the four columns it should\"\n",
    "    data.head()\n",
    "    return data\n",
    "    "
   ]
  },
  {
   "cell_type": "code",
   "execution_count": 29,
   "id": "42c0fdbc-0255-4a49-a5ba-4b9d9ef2b128",
   "metadata": {
    "tags": []
   },
   "outputs": [
    {
     "data": {
      "text/html": [
       "<div>\n",
       "<style scoped>\n",
       "    .dataframe tbody tr th:only-of-type {\n",
       "        vertical-align: middle;\n",
       "    }\n",
       "\n",
       "    .dataframe tbody tr th {\n",
       "        vertical-align: top;\n",
       "    }\n",
       "\n",
       "    .dataframe thead th {\n",
       "        text-align: right;\n",
       "    }\n",
       "</style>\n",
       "<table border=\"1\" class=\"dataframe\">\n",
       "  <thead>\n",
       "    <tr style=\"text-align: right;\">\n",
       "      <th></th>\n",
       "      <th>from_x</th>\n",
       "      <th>from_y</th>\n",
       "      <th>to_x</th>\n",
       "      <th>to_y</th>\n",
       "    </tr>\n",
       "  </thead>\n",
       "  <tbody>\n",
       "    <tr>\n",
       "      <th>0</th>\n",
       "      <td>24.970438</td>\n",
       "      <td>60.311917</td>\n",
       "      <td>24.856034</td>\n",
       "      <td>60.399941</td>\n",
       "    </tr>\n",
       "    <tr>\n",
       "      <th>1</th>\n",
       "      <td>24.970438</td>\n",
       "      <td>60.311917</td>\n",
       "      <td>24.860568</td>\n",
       "      <td>60.400014</td>\n",
       "    </tr>\n",
       "    <tr>\n",
       "      <th>2</th>\n",
       "      <td>24.970438</td>\n",
       "      <td>60.311917</td>\n",
       "      <td>24.865102</td>\n",
       "      <td>60.400086</td>\n",
       "    </tr>\n",
       "    <tr>\n",
       "      <th>3</th>\n",
       "      <td>24.970438</td>\n",
       "      <td>60.311917</td>\n",
       "      <td>24.869636</td>\n",
       "      <td>60.400159</td>\n",
       "    </tr>\n",
       "    <tr>\n",
       "      <th>4</th>\n",
       "      <td>24.970438</td>\n",
       "      <td>60.311917</td>\n",
       "      <td>24.842582</td>\n",
       "      <td>60.397478</td>\n",
       "    </tr>\n",
       "  </tbody>\n",
       "</table>\n",
       "</div>"
      ],
      "text/plain": [
       "      from_x     from_y       to_x       to_y\n",
       "0  24.970438  60.311917  24.856034  60.399941\n",
       "1  24.970438  60.311917  24.860568  60.400014\n",
       "2  24.970438  60.311917  24.865102  60.400086\n",
       "3  24.970438  60.311917  24.869636  60.400159\n",
       "4  24.970438  60.311917  24.842582  60.397478"
      ]
     },
     "execution_count": 29,
     "metadata": {},
     "output_type": "execute_result"
    }
   ],
   "source": [
    "data=derivedData(df,5,9)\n",
    "data.head()"
   ]
  },
  {
   "cell_type": "code",
   "execution_count": 51,
   "id": "bef9f21a-2814-4ba1-bf55-278f59ef8ae1",
   "metadata": {
    "tags": []
   },
   "outputs": [],
   "source": [
    "def DerivedOrgADes(data):\n",
    "    '''\n",
    "    Return the lists of Original And Destination Points\n",
    "    '''\n",
    "    origin_points=[]\n",
    "    destination_points=[]\n",
    "    for i,rows in data.iterrows():#i-> index - rows-> content\n",
    "        orgPoint=geometry.Point(rows['from_x'],rows['from_y'])\n",
    "        desPoint=geometry.Point(rows['to_x'],rows['to_y'])\n",
    "        origin_points.append(orgPoint)\n",
    "        destination_points.append(desPoint)\n",
    "    return origin_points,destination_points    \n",
    "def DerivedOrgADes1(data):\n",
    "    '''\n",
    "    Return the DataFrame of Original And Destination Points\n",
    "    '''\n",
    "    origin_points=data.apply(lambda row: geometry.Point(row[\"from_x\"],row[\"from_y\"]), axis=1 ) # axis=1 - along x-coordinate\n",
    "    destination_points=data.apply(lambda row:geometry.Point(row['to_x'],row['to_y']), axis=1 )\n",
    "    return origin_points,destination_points   \n"
   ]
  },
  {
   "cell_type": "code",
   "execution_count": 53,
   "id": "d4cad5dd-7b2b-430c-8df9-d6a829c7f4e0",
   "metadata": {
    "tags": []
   },
   "outputs": [],
   "source": [
    "origin_points,destination_points=DerivedOrgADes(data)"
   ]
  },
  {
   "cell_type": "code",
   "execution_count": 65,
   "id": "92b5aa68-159b-4c8f-9c09-11a317cda6ea",
   "metadata": {
    "tags": []
   },
   "outputs": [],
   "source": [
    "def MakeListOfLinesAtotalLength(origin_points,destination_points):\n",
    "    '''\n",
    "    Return the Lists of Lines And Total Lengths\n",
    "    '''\n",
    "    lines=[]\n",
    "    total_length=0\n",
    "    '''\n",
    "    for i in range(len(origin_points)):\n",
    "        line=geometry.LineString([origin_points[i],destination_points[i]])\n",
    "        total_length+=line.length\n",
    "        lines.append(line)\n",
    "    '''\n",
    "    for io,id in zip(origin_points,destination_points):\n",
    "        line=geometry.LineString([io,id])\n",
    "        total_length+=line.length\n",
    "        lines.append(line)\n",
    "    return lines,total_length\n",
    "                         "
   ]
  },
  {
   "cell_type": "code",
   "execution_count": 66,
   "id": "3f28c37f-27c2-4428-8324-072c4a479b38",
   "metadata": {
    "tags": []
   },
   "outputs": [],
   "source": [
    "lines,total_length=MakeListOfLinesAtotalLength(origin_points,destination_points)"
   ]
  },
  {
   "cell_type": "code",
   "execution_count": null,
   "id": "272cfd9c-c206-4a2c-bbfe-5e09fd0424f6",
   "metadata": {},
   "outputs": [],
   "source": []
  }
 ],
 "metadata": {
  "kernelspec": {
   "display_name": "Python 3 (ipykernel)",
   "language": "python",
   "name": "python3"
  },
  "language_info": {
   "codemirror_mode": {
    "name": "ipython",
    "version": 3
   },
   "file_extension": ".py",
   "mimetype": "text/x-python",
   "name": "python",
   "nbconvert_exporter": "python",
   "pygments_lexer": "ipython3",
   "version": "3.11.0"
  }
 },
 "nbformat": 4,
 "nbformat_minor": 5
}
