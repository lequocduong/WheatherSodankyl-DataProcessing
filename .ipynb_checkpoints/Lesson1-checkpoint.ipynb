{
 "cells": [
  {
   "cell_type": "code",
   "execution_count": 3,
   "id": "19b054b9-5591-4434-93fc-973f00041d9a",
   "metadata": {
    "tags": []
   },
   "outputs": [],
   "source": [
    "#ref/ https://github.com/Automating-GIS-processes-2022/Exercise-1/blob/main/Exercise-1-problem-1-2.ipynb"
   ]
  },
  {
   "cell_type": "code",
   "execution_count": 4,
   "id": "b6f18982-f5a7-48c8-beab-82940e11b6dd",
   "metadata": {
    "tags": []
   },
   "outputs": [],
   "source": [
    "import numpy as np"
   ]
  },
  {
   "cell_type": "code",
   "execution_count": 96,
   "id": "a4d94b58-f481-4acc-84b3-b45eb7601697",
   "metadata": {
    "tags": []
   },
   "outputs": [
    {
     "name": "stdout",
     "output_type": "stream",
     "text": [
      "POINT Z (9.26 -2.456 0.57)\n"
     ]
    },
    {
     "data": {
      "image/svg+xml": [
       "<svg xmlns=\"http://www.w3.org/2000/svg\" xmlns:xlink=\"http://www.w3.org/1999/xlink\" width=\"100.0\" height=\"100.0\" viewBox=\"8.26 -3.456 2.0 2.0\" preserveAspectRatio=\"xMinYMin meet\"><g transform=\"matrix(1,0,0,-1,0,-4.912)\"><circle cx=\"9.26\" cy=\"-2.456\" r=\"0.06\" stroke=\"#555555\" stroke-width=\"0.02\" fill=\"#66cc99\" opacity=\"0.6\" /></g></svg>"
      ],
      "text/plain": [
       "<POINT (9.26 -2.456)>"
      ]
     },
     "execution_count": 96,
     "metadata": {},
     "output_type": "execute_result"
    }
   ],
   "source": [
    "from shapely.geometry import Point\n",
    "#Cordinate 2D\n",
    "point1=Point(2.2,4.2)\n",
    "point2=Point(7.2,-25.1)\n",
    "point3=Point(9.26,-2.456)\n",
    "#cordinate 3D \n",
    "point4_3D = Point(9.26, -2.456, 0.57)\n",
    "#Check \n",
    "point3\n",
    "print(point4_3D)#POINT Z (9.26 -2.456 0.57)\n",
    "# Check the data type\n",
    "type(point1)# shapely.geometry.point.Point\n",
    "point3"
   ]
  },
  {
   "cell_type": "code",
   "execution_count": 98,
   "id": "44de22c9-89ad-44e3-81db-07ef110dcae4",
   "metadata": {
    "tags": []
   },
   "outputs": [
    {
     "data": {
      "image/svg+xml": [
       "<svg xmlns=\"http://www.w3.org/2000/svg\" xmlns:xlink=\"http://www.w3.org/1999/xlink\" width=\"100.0\" height=\"100.0\" viewBox=\"1.028 -26.272000000000002 9.404 31.644000000000002\" preserveAspectRatio=\"xMinYMin meet\"><g transform=\"matrix(1,0,0,-1,0,-20.900000000000002)\"><g><circle cx=\"2.2\" cy=\"4.2\" r=\"0.9493199999999999\" stroke=\"#555555\" stroke-width=\"0.31644\" fill=\"#66cc99\" opacity=\"0.6\" /><circle cx=\"7.2\" cy=\"-25.1\" r=\"0.9493199999999999\" stroke=\"#555555\" stroke-width=\"0.31644\" fill=\"#66cc99\" opacity=\"0.6\" /><circle cx=\"9.26\" cy=\"-2.456\" r=\"0.9493199999999999\" stroke=\"#555555\" stroke-width=\"0.31644\" fill=\"#66cc99\" opacity=\"0.6\" /></g></g></svg>"
      ],
      "text/plain": [
       "<MULTIPOINT (2.2 4.2, 7.2 -25.1, 9.26 -2.456)>"
      ]
     },
     "execution_count": 98,
     "metadata": {},
     "output_type": "execute_result"
    }
   ],
   "source": [
    "from shapely.geometry import MultiPoint\n",
    "# Create a MultiPoint object of our points 1,2 and 3\n",
    "multipoint = MultiPoint([point1, point2, point3])\n",
    "multipoint"
   ]
  },
  {
   "cell_type": "code",
   "execution_count": 36,
   "id": "cc6be610-cc81-495e-8f62-a2ba23cbc239",
   "metadata": {
    "tags": []
   },
   "outputs": [
    {
     "name": "stdout",
     "output_type": "stream",
     "text": [
      "2.2 4.2\n",
      "9.26 -2.456 0.57\n"
     ]
    }
   ],
   "source": [
    "point1.geom_type ##Check the datatype\n",
    "\n",
    "#Get coordinate tuple(s)\n",
    "point1.coords#Return the adress not value\n",
    "# --> if wanna use, use list() command\n",
    "list(point1.coords)#[(2.2, 4.2)]\n",
    "\n",
    "# Point is coordinate --\n",
    "x=point1.x # decimal value\n",
    "y=point1.y # decimal value\n",
    "print(x,y)# 2.2 4.2\n",
    "\n",
    "# In terms of 3D\n",
    "x = point4_3D.x\n",
    "y = point4_3D.y\n",
    "z = point4_3D.z\n",
    "print(x, y, z)# 9.26 -2.456 0.57"
   ]
  },
  {
   "cell_type": "code",
   "execution_count": 40,
   "id": "5af8eaa8-58f0-42be-b660-5eb987bcdf30",
   "metadata": {
    "tags": []
   },
   "outputs": [
    {
     "name": "stdout",
     "output_type": "stream",
     "text": [
      "Distance between the point is 29.72 units\n"
     ]
    }
   ],
   "source": [
    "#Always check what is the UNIT OF MEASUREMENT\n",
    "#Calculate the distance between point1 - point 2\n",
    "dist=point1.distance(point2)\n",
    "print(f'Distance between the point is {dist:.2f} units')\n",
    "#Distance between the point is 29.72 units"
   ]
  },
  {
   "cell_type": "code",
   "execution_count": 118,
   "id": "f2c6906d-664a-4c28-8659-905576fdbc3c",
   "metadata": {
    "tags": []
   },
   "outputs": [
    {
     "name": "stdout",
     "output_type": "stream",
     "text": [
      "LINESTRING (30 2.01, 31.91 0.62, 31.18 -1.63)\n"
     ]
    },
    {
     "data": {
      "text/plain": [
       "shapely.geometry.linestring.LineString"
      ]
     },
     "execution_count": 118,
     "metadata": {},
     "output_type": "execute_result"
    }
   ],
   "source": [
    "# import the LineString Class\n",
    "from shapely.geometry import LineString\n",
    "# Create a LineString from our Point objects\n",
    "line = LineString([point1,point2, point3])\n",
    "line1 =LineString([point1,point2, point3])\n",
    "# Check if the lines are, indeed, identical:\n",
    "line==line1 # True\n",
    "print(line)# LINESTRING (2.2 4.2, 7.2 -25.1, 9.26 -2.456) \n",
    "#The text representation is in WKT format.\n",
    "# Check data again\n",
    "type(line)# shapely.geometry.linestring.LineString\n",
    "line.geom_type # 'LineString'\n",
    "line1"
   ]
  },
  {
   "cell_type": "code",
   "execution_count": 55,
   "id": "c13cc37d-708a-4781-a40a-01f9c9105bb0",
   "metadata": {
    "tags": []
   },
   "outputs": [
    {
     "name": "stdout",
     "output_type": "stream",
     "text": [
      "[2.2, 7.2, 9.26]\n",
      "[4.2, -25.1, -2.456]\n"
     ]
    }
   ],
   "source": [
    "#Get coordinate tuples\n",
    "list(line.coords)# [(2.2, 4.2), (7.2, -25.1), (9.26, -2.456)] -tuples of point\n",
    "# Obtain x and y coordinates - must have list - without it --> just an address\n",
    "xcoords= list(line.xy[0])\n",
    "ycoords= list(line.xy[1])\n",
    "print(xcoords)#[2.2, 7.2, 9.26] \n",
    "# take all x coordinate of all points forming the line\n",
    "print(ycoords)#[4.2, -25.1, -2.456]\n",
    "# take all y coordinate of all points forming the line\n"
   ]
  },
  {
   "cell_type": "code",
   "execution_count": 63,
   "id": "4bcdb79c-3059-4a59-9ac8-ffe8b03b7438",
   "metadata": {
    "tags": []
   },
   "outputs": [
    {
     "name": "stdout",
     "output_type": "stream",
     "text": [
      "Length of our line: 52.46 units\n",
      "6.229961354035622 -11.892411157572392\n"
     ]
    }
   ],
   "source": [
    "# get the length of the line\n",
    "line_length= line.length\n",
    "print(f'Length of our line: {line_length:.2f} units')\n",
    "# centre point of the line\n",
    "centroid=line.centroid\n",
    "centroidX=centroid.x\n",
    "centroidY=centroid.y\n",
    "print(centroidX,centroidY)# 2 element 'cause of 2 lines"
   ]
  },
  {
   "cell_type": "code",
   "execution_count": 72,
   "id": "756c9c56-c449-45d3-bbd5-3e22923bc894",
   "metadata": {
    "tags": []
   },
   "outputs": [
    {
     "data": {
      "text/plain": [
       "shapely.geometry.polygon.Polygon"
      ]
     },
     "execution_count": 72,
     "metadata": {},
     "output_type": "execute_result"
    }
   ],
   "source": [
    "from shapely.geometry import Polygon\n",
    "#Create polygon from Point \n",
    "PolygonPoint=Polygon([point1,point2,point3])\n",
    "#Create pololygon from Linear Ring (must be closed)\n",
    "shell=LineString([point1,point2,point3,point1])\n",
    "PolygonLS=Polygon(shell)\n",
    "PolygonLS==PolygonPoint # True -> the same result\n",
    "\n",
    "#Check Data type\n",
    "type(PolygonPoint) #shapely.geometry.polygon.Polygon\n",
    "#Geometry type\n",
    "PolygonPoint.geom_type# 'Polygon'"
   ]
  },
  {
   "cell_type": "code",
   "execution_count": 83,
   "id": "b5f8db47-2f70-4eba-ad51-9cf3aa107b50",
   "metadata": {
    "tags": []
   },
   "outputs": [
    {
     "data": {
      "image/svg+xml": [
       "<svg xmlns=\"http://www.w3.org/2000/svg\" xmlns:xlink=\"http://www.w3.org/1999/xlink\" width=\"300\" height=\"208.8\" viewBox=\"-194.4 -104.4 388.8 208.8\" preserveAspectRatio=\"xMinYMin meet\"><g transform=\"matrix(1,0,0,-1,0,0.0)\"><path fill-rule=\"evenodd\" fill=\"#66cc99\" stroke=\"#555555\" stroke-width=\"2.592\" opacity=\"0.6\" d=\"M -180.0,90.0 L -180.0,-90.0 L 180.0,-90.0 L 180.0,90.0 L -180.0,90.0 z M -170.0,80.0 L -100.0,-80.0 L 100.0,-80.0 L 170.0,80.0 L -170.0,80.0 z\" /></g></svg>"
      ],
      "text/plain": [
       "<POLYGON ((-180 90, -180 -90, 180 -90, 180 90, -180 90), (-170 80, -100 -80,...>"
      ]
     },
     "execution_count": 83,
     "metadata": {},
     "output_type": "execute_result"
    }
   ],
   "source": [
    "from shapely.geometry import LinearRing\n",
    "# define the exterior\n",
    "pointA=Point(-180,90)\n",
    "pointB=Point(-180,-90)\n",
    "pointC=Point(180,-90)\n",
    "pointD=Point(180,90)\n",
    "outer=LinearRing([pointA,pointB,pointC,pointD])\n",
    "# define a hole:\n",
    "hole = LinearRing([(-170, 80), (-100, -80), (100, -80), (170, 80)])\n",
    "# \n",
    "SubtractedPolygon=Polygon(outer,[hole])\n",
    "SubtractedPolygon"
   ]
  },
  {
   "cell_type": "code",
   "execution_count": 85,
   "id": "9d863d3b-8191-4371-85f8-23c3d95b006a",
   "metadata": {
    "tags": []
   },
   "outputs": [
    {
     "name": "stdout",
     "output_type": "stream",
     "text": [
      "Polygon centroid: POINT (0 -13.827160493827162)\n",
      "Polygon area: 21600.0\n",
      "Polygon bounding box: (-180.0, -90.0, 180.0, 90.0)\n",
      "Polygon exterior ring: LINEARRING (-180 90, -180 -90, 180 -90, 180 90, -180 90)\n",
      "Polygon circumference: 1080.0\n",
      "Polygon minimum_clearance: 10.0\n"
     ]
    }
   ],
   "source": [
    "# Centre point(x,y)\n",
    "print(f\"Polygon centroid: {SubtractedPolygon.centroid}\")\n",
    "# Area of Poolyogn\n",
    "print(f\"Polygon area: {SubtractedPolygon.area}\")\n",
    "# Returns a (minx, miny, maxx, maxy) tuple (float values)\n",
    "print(f\"Polygon bounding box: {SubtractedPolygon.bounds}\")\n",
    "#\n",
    "print(f\"Polygon exterior ring: {SubtractedPolygon.exterior}\")\n",
    "# Circumference lenght\n",
    "print(f\"Polygon circumference: {SubtractedPolygon.exterior.length}\")\n",
    "#Returns the smallest distance by which a node could be moved \n",
    "#to produce an invalid geometry\n",
    "print(f\"Polygon minimum_clearance: {SubtractedPolygon.minimum_clearance}\")"
   ]
  },
  {
   "cell_type": "code",
   "execution_count": 105,
   "id": "45f98386-c20f-42af-8d68-826eb33d5244",
   "metadata": {
    "tags": []
   },
   "outputs": [
    {
     "data": {
      "image/svg+xml": [
       "<svg xmlns=\"http://www.w3.org/2000/svg\" xmlns:xlink=\"http://www.w3.org/1999/xlink\" width=\"100.0\" height=\"100.0\" viewBox=\"-1.08 -1.08 2.16 2.16\" preserveAspectRatio=\"xMinYMin meet\"><g transform=\"matrix(1,0,0,-1,0,0.0)\"><path fill-rule=\"evenodd\" fill=\"#66cc99\" stroke=\"#555555\" stroke-width=\"0.0432\" opacity=\"0.6\" d=\"M 1.0,0.0 L 0.9951847266721969,-0.0980171403295606 L 0.9807852804032304,-0.19509032201612825 L 0.9569403357322088,-0.29028467725446233 L 0.9238795325112867,-0.3826834323650898 L 0.881921264348355,-0.47139673682599764 L 0.8314696123025452,-0.5555702330196022 L 0.773010453362737,-0.6343932841636455 L 0.7071067811865476,-0.7071067811865476 L 0.6343932841636455,-0.7730104533627369 L 0.5555702330196023,-0.8314696123025452 L 0.4713967368259978,-0.8819212643483549 L 0.38268343236508984,-0.9238795325112867 L 0.29028467725446233,-0.9569403357322089 L 0.19509032201612833,-0.9807852804032304 L 0.09801714032956077,-0.9951847266721968 L 6.123233995736766e-17,-1.0 L -0.09801714032956065,-0.9951847266721969 L -0.1950903220161282,-0.9807852804032304 L -0.29028467725446216,-0.9569403357322089 L -0.3826834323650897,-0.9238795325112867 L -0.4713967368259977,-0.881921264348355 L -0.555570233019602,-0.8314696123025453 L -0.6343932841636454,-0.7730104533627371 L -0.7071067811865475,-0.7071067811865476 L -0.773010453362737,-0.6343932841636455 L -0.8314696123025453,-0.5555702330196022 L -0.8819212643483549,-0.4713967368259978 L -0.9238795325112867,-0.3826834323650899 L -0.9569403357322088,-0.2902846772544624 L -0.9807852804032304,-0.1950903220161286 L -0.9951847266721968,-0.09801714032956083 L -1.0,-1.2246467991473532e-16 L -0.9951847266721969,0.09801714032956059 L -0.9807852804032304,0.19509032201612836 L -0.9569403357322089,0.2902846772544621 L -0.9238795325112868,0.38268343236508967 L -0.881921264348355,0.47139673682599764 L -0.8314696123025455,0.555570233019602 L -0.7730104533627371,0.6343932841636453 L -0.7071067811865477,0.7071067811865475 L -0.6343932841636459,0.7730104533627367 L -0.5555702330196022,0.8314696123025452 L -0.47139673682599786,0.8819212643483549 L -0.38268343236509034,0.9238795325112865 L -0.29028467725446244,0.9569403357322088 L -0.19509032201612866,0.9807852804032303 L -0.09801714032956045,0.9951847266721969 L -1.8369701987210297e-16,1.0 L 0.09801714032956009,0.9951847266721969 L 0.1950903220161283,0.9807852804032304 L 0.29028467725446205,0.9569403357322089 L 0.38268343236509,0.9238795325112866 L 0.4713967368259976,0.881921264348355 L 0.5555702330196018,0.8314696123025455 L 0.6343932841636456,0.7730104533627369 L 0.7071067811865474,0.7071067811865477 L 0.7730104533627365,0.6343932841636459 L 0.8314696123025452,0.5555702330196022 L 0.8819212643483548,0.4713967368259979 L 0.9238795325112865,0.3826834323650904 L 0.9569403357322088,0.2902846772544625 L 0.9807852804032303,0.19509032201612872 L 0.9951847266721969,0.0980171403295605 L 1.0,0.0 z\" /></g></svg>"
      ],
      "text/plain": [
       "<POLYGON ((1 0, 0.995 -0.098, 0.981 -0.195, 0.957 -0.29, 0.924 -0.383, 0.882...>"
      ]
     },
     "execution_count": 105,
     "metadata": {},
     "output_type": "execute_result"
    }
   ],
   "source": [
    "# Coordinate\n",
    "point1=Point(30, 2.01)\n",
    "point2=Point(31.91, 0.62)\n",
    "point3=Point(31.18, -1.63)\n",
    "point4=Point(28.82, -1.63)\n",
    "point5=Point(28.09, 0.62)\n",
    "#Pentagon \n",
    "pentagon=Polygon([point1,point2,point3,point4,point5])\n",
    "triangle=Polygon([point1,point2,point3])\n",
    "square=Polygon([(0,1),(0,0),(1,0),(1,1)])\n",
    "Circle=Point((0,0)).buffer(1)# buffer is radius, this case\n",
    "Circle"
   ]
  },
  {
   "cell_type": "code",
   "execution_count": 109,
   "id": "6630175e-4845-46be-bf89-26a628bd948f",
   "metadata": {
    "tags": []
   },
   "outputs": [
    {
     "data": {
      "image/svg+xml": [
       "<svg xmlns=\"http://www.w3.org/2000/svg\" xmlns:xlink=\"http://www.w3.org/1999/xlink\" width=\"100.0\" height=\"100.0\" viewBox=\"0.96 -0.04 1.08 1.08\" preserveAspectRatio=\"xMinYMin meet\"><g transform=\"matrix(1,0,0,-1,0,1.0)\"><path fill-rule=\"evenodd\" fill=\"#66cc99\" stroke=\"#555555\" stroke-width=\"0.0216\" opacity=\"0.6\" d=\"M 2.0,0.0 L 2.0,1.0 L 1.0,1.0 L 1.0,0.0 L 2.0,0.0 z\" /></g></svg>"
      ],
      "text/plain": [
       "<POLYGON ((2 0, 2 1, 1 1, 1 0, 2 0))>"
      ]
     },
     "execution_count": 109,
     "metadata": {},
     "output_type": "execute_result"
    }
   ],
   "source": [
    "from shapely.geometry import box\n",
    "minX=0+1\n",
    "maxX=1+1\n",
    "minY=0\n",
    "maxY=1\n",
    "square0=box(minX,minY,maxX,maxY)\n",
    "square0"
   ]
  },
  {
   "cell_type": "code",
   "execution_count": 110,
   "id": "e2450ce7-8e6a-40d8-aab3-773b42ebde74",
   "metadata": {
    "tags": []
   },
   "outputs": [
    {
     "data": {
      "image/svg+xml": [
       "<svg xmlns=\"http://www.w3.org/2000/svg\" xmlns:xlink=\"http://www.w3.org/1999/xlink\" width=\"100.0\" height=\"100.0\" viewBox=\"-0.08 -0.08 2.16 1.1600000000000001\" preserveAspectRatio=\"xMinYMin meet\"><g transform=\"matrix(1,0,0,-1,0,1.0)\"><g><path fill-rule=\"evenodd\" fill=\"#ff3333\" stroke=\"#555555\" stroke-width=\"0.0432\" opacity=\"0.6\" d=\"M 0.0,1.0 L 0.0,0.0 L 1.0,0.0 L 1.0,1.0 L 0.0,1.0 z\" /><path fill-rule=\"evenodd\" fill=\"#ff3333\" stroke=\"#555555\" stroke-width=\"0.0432\" opacity=\"0.6\" d=\"M 2.0,0.0 L 2.0,1.0 L 1.0,1.0 L 1.0,0.0 L 2.0,0.0 z\" /></g></g></svg>"
      ],
      "text/plain": [
       "<MULTIPOLYGON (((0 1, 0 0, 1 0, 1 1, 0 1)), ((2 0, 2 1, 1 1, 1 0, 2 0)))>"
      ]
     },
     "execution_count": 110,
     "metadata": {},
     "output_type": "execute_result"
    }
   ],
   "source": [
    "from shapely.geometry import MultiPolygon\n",
    "# Pass multiple Polygon objects as a list\n",
    "multipolygon =MultiPolygon([square,square0])\n",
    "multipolygon"
   ]
  },
  {
   "cell_type": "code",
   "execution_count": 111,
   "id": "493b197c-7e96-49b9-bf24-c01959fa20ff",
   "metadata": {
    "tags": []
   },
   "outputs": [
    {
     "data": {
      "image/svg+xml": [
       "<svg xmlns=\"http://www.w3.org/2000/svg\" xmlns:xlink=\"http://www.w3.org/1999/xlink\" width=\"100.0\" height=\"100.0\" viewBox=\"1.028 -26.272000000000002 9.404 31.644000000000002\" preserveAspectRatio=\"xMinYMin meet\"><g transform=\"matrix(1,0,0,-1,0,-20.900000000000002)\"><g><circle cx=\"2.2\" cy=\"4.2\" r=\"0.9493199999999999\" stroke=\"#555555\" stroke-width=\"0.31644\" fill=\"#66cc99\" opacity=\"0.6\" /><circle cx=\"7.2\" cy=\"-25.1\" r=\"0.9493199999999999\" stroke=\"#555555\" stroke-width=\"0.31644\" fill=\"#66cc99\" opacity=\"0.6\" /><circle cx=\"9.26\" cy=\"-2.456\" r=\"0.9493199999999999\" stroke=\"#555555\" stroke-width=\"0.31644\" fill=\"#66cc99\" opacity=\"0.6\" /></g></g></svg>"
      ],
      "text/plain": [
       "<MULTIPOINT (2.2 4.2, 7.2 -25.1, 9.26 -2.456)>"
      ]
     },
     "execution_count": 111,
     "metadata": {},
     "output_type": "execute_result"
    }
   ],
   "source": [
    "# Check input geometry\n",
    "multipoint"
   ]
  },
  {
   "cell_type": "code",
   "execution_count": 112,
   "id": "6d561a85-0626-4994-8906-9112f8e7585c",
   "metadata": {
    "tags": []
   },
   "outputs": [
    {
     "data": {
      "image/svg+xml": [
       "<svg xmlns=\"http://www.w3.org/2000/svg\" xmlns:xlink=\"http://www.w3.org/1999/xlink\" width=\"100.0\" height=\"100.0\" viewBox=\"1.028 -26.272000000000002 9.404 31.644000000000002\" preserveAspectRatio=\"xMinYMin meet\"><g transform=\"matrix(1,0,0,-1,0,-20.900000000000002)\"><path fill-rule=\"evenodd\" fill=\"#66cc99\" stroke=\"#555555\" stroke-width=\"0.63288\" opacity=\"0.6\" d=\"M 7.2,-25.1 L 2.2,4.2 L 9.26,-2.456 L 7.2,-25.1 z\" /></g></svg>"
      ],
      "text/plain": [
       "<POLYGON ((7.2 -25.1, 2.2 4.2, 9.26 -2.456, 7.2 -25.1))>"
      ]
     },
     "execution_count": 112,
     "metadata": {},
     "output_type": "execute_result"
    }
   ],
   "source": [
    "# Convex Hull\n",
    "# smallest possible convex polygon \n",
    "# that can contain a geometry or a set of geometries\n",
    "multipoint.convex_hull"
   ]
  },
  {
   "cell_type": "code",
   "execution_count": 117,
   "id": "28134660-d563-4546-97db-9628e76fa143",
   "metadata": {
    "tags": []
   },
   "outputs": [
    {
     "data": {
      "image/svg+xml": [
       "<svg xmlns=\"http://www.w3.org/2000/svg\" xmlns:xlink=\"http://www.w3.org/1999/xlink\" width=\"100.0\" height=\"100.0\" viewBox=\"1.028 -26.272000000000002 9.404 31.644000000000002\" preserveAspectRatio=\"xMinYMin meet\"><g transform=\"matrix(1,0,0,-1,0,-20.900000000000002)\"><path fill-rule=\"evenodd\" fill=\"#66cc99\" stroke=\"#555555\" stroke-width=\"0.63288\" opacity=\"0.6\" d=\"M 2.2,-25.1 L 9.26,-25.1 L 9.26,4.2 L 2.2,4.2 L 2.2,-25.1 z\" /></g></svg>"
      ],
      "text/plain": [
       "<POLYGON ((2.2 -25.1, 9.26 -25.1, 9.26 4.2, 2.2 4.2, 2.2 -25.1))>"
      ]
     },
     "execution_count": 117,
     "metadata": {},
     "output_type": "execute_result"
    }
   ],
   "source": [
    "#Envelope (smalles rectangular polygon around \n",
    "#a geometry/set of geometries):\n",
    "multipoint.envelope"
   ]
  }
 ],
 "metadata": {
  "kernelspec": {
   "display_name": "Python 3 (ipykernel)",
   "language": "python",
   "name": "python3"
  },
  "language_info": {
   "codemirror_mode": {
    "name": "ipython",
    "version": 3
   },
   "file_extension": ".py",
   "mimetype": "text/x-python",
   "name": "python",
   "nbconvert_exporter": "python",
   "pygments_lexer": "ipython3",
   "version": "3.11.0"
  }
 },
 "nbformat": 4,
 "nbformat_minor": 5
}
